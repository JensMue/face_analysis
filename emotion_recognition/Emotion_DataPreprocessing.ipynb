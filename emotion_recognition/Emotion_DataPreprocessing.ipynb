{
 "cells": [
  {
   "cell_type": "markdown",
   "metadata": {},
   "source": [
    "## Data Preprocessing Facial Expression Recognition\n",
    "\n",
    "##### In this notebook we are loading, cleaning and combining datasets in preparation for training our facial expression recognition model.  \n",
    "\n",
    "##### Outline of this Notebook: \n",
    "\n",
    "[1. RAF-DB: Real Affective Faces - Database (29672 images)](#1.-RAF-DB:-Real-Affective-Faces-Database-(29672-images))<br>\n",
    "[2. FePh: Facial Expression Phoenix (3359 images)](#2.-FePh:-Facial-Expression-Phoenix-(3359-images))<br>\n",
    "[3. FER+: Facial Expression Recognition (35887 images)](#3.-FER+:-Facial-Expression-Recognition-(35887-images))<br>\n",
    "[4. ExpW: Expressions in the Wild (84830 images)](#4.-ExpW:-Expressions-in-the-Wild-(84830-images))<br>\n",
    "[5. Merging all cleaned datasets](#5.-Merging-all-cleaned-datasets)\n",
    "\n",
    "#####  Information on how to obtain the original dataset from the internet is provided throughout the script. "
   ]
  },
  {
   "cell_type": "markdown",
   "metadata": {},
   "source": [
    "Comments: \n",
    "\n",
    "We initially started out with the RAF-DB dataset. While familiarizing ourselves with it, we noticed that it suffers from heavy class imbalance and has not so many images overall. If we were to train a model with a complex archtitecture on an imbalanced dataset and relatively small dataset, we are prone to overfitting. Therefore, our initial attempt to counter these risks are to increase the size of the dataset by adding more datasets that were created for the same task of facial expression recognition. "
   ]
  },
  {
   "cell_type": "code",
   "execution_count": 79,
   "metadata": {},
   "outputs": [],
   "source": [
    "import os\n",
    "import numpy as np\n",
    "import pandas as pd\n",
    "from PIL import Image\n",
    "%matplotlib inline\n",
    "import cv2\n",
    "import matplotlib.pyplot as plt\n",
    "import sklearn\n",
    "from sklearn.utils import shuffle\n",
    "import time\n",
    "\n",
    "\n",
    "### Settings ###\n",
    "base_dir = \"/Users/Felix/datasets/\"\n",
    "directory = base_dir + \"facial_expression_full/\"\n"
   ]
  },
  {
   "cell_type": "markdown",
   "metadata": {},
   "source": [
    "<hr>"
   ]
  },
  {
   "cell_type": "markdown",
   "metadata": {},
   "source": [
    "### 1. RAF-DB: Real Affective Faces Database (29672 images)\n",
    "\n",
    "http://www.whdeng.cn/RAF/model1.html\n",
    "\n",
    "Its' pictures were scraped from google and are not from a staged setting. Thus, we expect this dataset to be useful for our tasks of classifying facial expression in an uncontrolled setting. \n",
    "\n",
    "In this section we first inspect the dataset labels and relabel them to our wanted mapping. Then we proceed with cleaning the data and finally plot the distribution of labels per class. \n"
   ]
  },
  {
   "cell_type": "code",
   "execution_count": 27,
   "metadata": {},
   "outputs": [
    {
     "data": {
      "text/html": [
       "<div>\n",
       "<style scoped>\n",
       "    .dataframe tbody tr th:only-of-type {\n",
       "        vertical-align: middle;\n",
       "    }\n",
       "\n",
       "    .dataframe tbody tr th {\n",
       "        vertical-align: top;\n",
       "    }\n",
       "\n",
       "    .dataframe thead th {\n",
       "        text-align: right;\n",
       "    }\n",
       "</style>\n",
       "<table border=\"1\" class=\"dataframe\">\n",
       "  <thead>\n",
       "    <tr style=\"text-align: right;\">\n",
       "      <th></th>\n",
       "      <th>file_name</th>\n",
       "      <th>label</th>\n",
       "    </tr>\n",
       "  </thead>\n",
       "  <tbody>\n",
       "    <tr>\n",
       "      <th>0</th>\n",
       "      <td>train_00001.jpg</td>\n",
       "      <td>5</td>\n",
       "    </tr>\n",
       "    <tr>\n",
       "      <th>1</th>\n",
       "      <td>train_00002.jpg</td>\n",
       "      <td>5</td>\n",
       "    </tr>\n",
       "    <tr>\n",
       "      <th>2</th>\n",
       "      <td>train_00003.jpg</td>\n",
       "      <td>4</td>\n",
       "    </tr>\n",
       "    <tr>\n",
       "      <th>3</th>\n",
       "      <td>train_00004.jpg</td>\n",
       "      <td>4</td>\n",
       "    </tr>\n",
       "    <tr>\n",
       "      <th>4</th>\n",
       "      <td>train_00005.jpg</td>\n",
       "      <td>5</td>\n",
       "    </tr>\n",
       "  </tbody>\n",
       "</table>\n",
       "</div>"
      ],
      "text/plain": [
       "         file_name  label\n",
       "0  train_00001.jpg      5\n",
       "1  train_00002.jpg      5\n",
       "2  train_00003.jpg      4\n",
       "3  train_00004.jpg      4\n",
       "4  train_00005.jpg      5"
      ]
     },
     "execution_count": 27,
     "metadata": {},
     "output_type": "execute_result"
    }
   ],
   "source": [
    "rafdb_df = pd.read_csv(directory + 'data_exp_rec/rafdb/Images/Aligned/list_patition_label.csv')\n",
    "rafdb_df.head()"
   ]
  },
  {
   "cell_type": "code",
   "execution_count": 28,
   "metadata": {},
   "outputs": [
    {
     "data": {
      "text/html": [
       "<div>\n",
       "<style scoped>\n",
       "    .dataframe tbody tr th:only-of-type {\n",
       "        vertical-align: middle;\n",
       "    }\n",
       "\n",
       "    .dataframe tbody tr th {\n",
       "        vertical-align: top;\n",
       "    }\n",
       "\n",
       "    .dataframe thead th {\n",
       "        text-align: right;\n",
       "    }\n",
       "</style>\n",
       "<table border=\"1\" class=\"dataframe\">\n",
       "  <thead>\n",
       "    <tr style=\"text-align: right;\">\n",
       "      <th></th>\n",
       "      <th>image_name</th>\n",
       "      <th>label</th>\n",
       "    </tr>\n",
       "  </thead>\n",
       "  <tbody>\n",
       "    <tr>\n",
       "      <th>0</th>\n",
       "      <td>train_00001.png</td>\n",
       "      <td>5</td>\n",
       "    </tr>\n",
       "    <tr>\n",
       "      <th>1</th>\n",
       "      <td>train_00002.png</td>\n",
       "      <td>5</td>\n",
       "    </tr>\n",
       "    <tr>\n",
       "      <th>2</th>\n",
       "      <td>train_00003.png</td>\n",
       "      <td>4</td>\n",
       "    </tr>\n",
       "    <tr>\n",
       "      <th>3</th>\n",
       "      <td>train_00004.png</td>\n",
       "      <td>4</td>\n",
       "    </tr>\n",
       "    <tr>\n",
       "      <th>4</th>\n",
       "      <td>train_00005.png</td>\n",
       "      <td>5</td>\n",
       "    </tr>\n",
       "  </tbody>\n",
       "</table>\n",
       "</div>"
      ],
      "text/plain": [
       "        image_name  label\n",
       "0  train_00001.png      5\n",
       "1  train_00002.png      5\n",
       "2  train_00003.png      4\n",
       "3  train_00004.png      4\n",
       "4  train_00005.png      5"
      ]
     },
     "execution_count": 28,
     "metadata": {},
     "output_type": "execute_result"
    }
   ],
   "source": [
    "rafdb_df = rafdb_df.rename({'file_name':'image_name',}, axis = 1)\n",
    "rafdb_df.image_name = rafdb_df.image_name.str.slice_replace(start=-3, repl='png')\n",
    "rafdb_df.head()"
   ]
  },
  {
   "cell_type": "markdown",
   "metadata": {},
   "source": [
    "Next, we relabel the pictures such that it matches the original label structure of the FER+ labels. (Note: In the training phase we have discovered that Tensorflow can only work with labels starting from 0. Therefore, we substract the value of 1 from each label to get the needed 0-6 label structure after we have combined all the datasets down below (see section 5 - [Readjust labels](#Readjust-labels)).\n",
    "\n",
    "RAF-DB Original Mapping: <br>\n",
    "1. surprise<br>\n",
    "2. fear<br>\n",
    "3. disgust<br>\n",
    "4. happy<br>\n",
    "5. sad<br>\n",
    "6. anger<br>\n",
    "7. neutral<br>\n",
    "\n",
    "<hr>\n",
    "\n",
    "Target Mapping:<br> \n",
    "1. neutral<br>\n",
    "2. happy<br>\n",
    "3. surprise<br>\n",
    "4. sad<br>\n",
    "5. anger<br>\n",
    "6. disgust<br>\n",
    "7. fear<br>"
   ]
  },
  {
   "cell_type": "code",
   "execution_count": 29,
   "metadata": {},
   "outputs": [],
   "source": [
    "rafdb_df.label = rafdb_df.label.add(100) #to modify inplace"
   ]
  },
  {
   "cell_type": "code",
   "execution_count": 30,
   "metadata": {},
   "outputs": [],
   "source": [
    "rafdb_df.label=rafdb_df.label.replace(to_replace=101,value=3)\n",
    "rafdb_df.label=rafdb_df.label.replace(to_replace=102,value=7)\n",
    "rafdb_df.label=rafdb_df.label.replace(to_replace=103,value=6)\n",
    "rafdb_df.label=rafdb_df.label.replace(to_replace=104,value=2)\n",
    "rafdb_df.label=rafdb_df.label.replace(to_replace=105,value=4)\n",
    "rafdb_df.label=rafdb_df.label.replace(to_replace=106,value=5)\n",
    "rafdb_df.label=rafdb_df.label.replace(to_replace=107,value=1)"
   ]
  },
  {
   "cell_type": "code",
   "execution_count": 31,
   "metadata": {},
   "outputs": [],
   "source": [
    "rafdb_labels = rafdb_df"
   ]
  },
  {
   "cell_type": "code",
   "execution_count": 32,
   "metadata": {},
   "outputs": [
    {
     "data": {
      "image/png": "[encoded data removed]",
      "text/plain": [
       "<Figure size 432x288 with 1 Axes>"
      ]
     },
     "metadata": {
      "needs_background": "light"
     },
     "output_type": "display_data"
    }
   ],
   "source": [
    "rafdb_labels.label.value_counts().plot(kind='bar')\n",
    "plt.title('RAF-DB Label counts')\n",
    "plt.xlabel('Label')\n",
    "plt.ylabel('Count')\n",
    "plt.show()"
   ]
  },
  {
   "cell_type": "markdown",
   "metadata": {},
   "source": [
    "We notice a strong class imbalance with only a couple of hundred images in some classes. Therefore, we start add next the FePh dataset.\n",
    "<hr>"
   ]
  },
  {
   "cell_type": "markdown",
   "metadata": {},
   "source": [
    "## 2. FePh: Facial Expression Phoenix (3359 images)\n",
    "\n",
    "Alaghband, M., Yousefi, N., & Garibay, I. (2020). FePh: An Annotated Facial Expression Dataset for the RWTH-PHOENIX-Weather 2014 Dataset. arXiv preprint arXiv:2003.08759. \n",
    "\n",
    "Dataset Link: https://dataverse.harvard.edu/dataset.xhtml?persistentId=doi:10.7910/DVN/358QMQ\n",
    "\n",
    "The FePh dataset contains labeled images of faces taken from TV recordings (mostly news segments)."
   ]
  },
  {
   "cell_type": "code",
   "execution_count": 33,
   "metadata": {},
   "outputs": [],
   "source": [
    "FePh_lab_dir = directory + 'data_exp_rec/FePh/FePh_labels.csv'\n"
   ]
  },
  {
   "cell_type": "code",
   "execution_count": 34,
   "metadata": {},
   "outputs": [
    {
     "data": {
      "text/html": [
       "<div>\n",
       "<style scoped>\n",
       "    .dataframe tbody tr th:only-of-type {\n",
       "        vertical-align: middle;\n",
       "    }\n",
       "\n",
       "    .dataframe tbody tr th {\n",
       "        vertical-align: top;\n",
       "    }\n",
       "\n",
       "    .dataframe thead th {\n",
       "        text-align: right;\n",
       "    }\n",
       "</style>\n",
       "<table border=\"1\" class=\"dataframe\">\n",
       "  <thead>\n",
       "    <tr style=\"text-align: right;\">\n",
       "      <th></th>\n",
       "      <th>0</th>\n",
       "      <th>1</th>\n",
       "      <th>2</th>\n",
       "      <th>3</th>\n",
       "    </tr>\n",
       "  </thead>\n",
       "  <tbody>\n",
       "    <tr>\n",
       "      <th>0</th>\n",
       "      <td>01August_2011_Monday_heute_default-6.avi_pid0_...</td>\n",
       "      <td>anger</td>\n",
       "      <td>1</td>\n",
       "      <td>0</td>\n",
       "    </tr>\n",
       "    <tr>\n",
       "      <th>1</th>\n",
       "      <td>01August_2011_Monday_heute_default-6.avi_pid0_...</td>\n",
       "      <td>anger</td>\n",
       "      <td>1</td>\n",
       "      <td>0</td>\n",
       "    </tr>\n",
       "    <tr>\n",
       "      <th>2</th>\n",
       "      <td>01August_2011_Monday_heute_default-6.avi_pid0_...</td>\n",
       "      <td>anger</td>\n",
       "      <td>1</td>\n",
       "      <td>0</td>\n",
       "    </tr>\n",
       "    <tr>\n",
       "      <th>3</th>\n",
       "      <td>01August_2011_Monday_heute_default-6.avi_pid0_...</td>\n",
       "      <td>anger</td>\n",
       "      <td>1</td>\n",
       "      <td>0</td>\n",
       "    </tr>\n",
       "    <tr>\n",
       "      <th>4</th>\n",
       "      <td>01August_2011_Monday_heute_default-6.avi_pid0_...</td>\n",
       "      <td>anger</td>\n",
       "      <td>1</td>\n",
       "      <td>0</td>\n",
       "    </tr>\n",
       "  </tbody>\n",
       "</table>\n",
       "</div>"
      ],
      "text/plain": [
       "                                                   0      1  2  3\n",
       "0  01August_2011_Monday_heute_default-6.avi_pid0_...  anger  1  0\n",
       "1  01August_2011_Monday_heute_default-6.avi_pid0_...  anger  1  0\n",
       "2  01August_2011_Monday_heute_default-6.avi_pid0_...  anger  1  0\n",
       "3  01August_2011_Monday_heute_default-6.avi_pid0_...  anger  1  0\n",
       "4  01August_2011_Monday_heute_default-6.avi_pid0_...  anger  1  0"
      ]
     },
     "execution_count": 34,
     "metadata": {},
     "output_type": "execute_result"
    }
   ],
   "source": [
    "temp3 = pd.read_csv(\n",
    "    FePh_lab_dir,\n",
    "    header = None,\n",
    "    dtype={'2': 'int32'}\n",
    ")\n",
    "\n",
    "temp3.head()"
   ]
  },
  {
   "cell_type": "code",
   "execution_count": 35,
   "metadata": {},
   "outputs": [],
   "source": [
    "temp3= temp3.rename({0:'image_name',\n",
    "             1:'str_emo',\n",
    "             2:'label',\n",
    "             3:'train_test',}, axis=1)"
   ]
  },
  {
   "cell_type": "code",
   "execution_count": 36,
   "metadata": {},
   "outputs": [
    {
     "data": {
      "text/plain": [
       "array(['1', '2', '63', '6', '7', '5', '0', '3', '65', '4', '40', '61',\n",
       "       '51', '31', '21', '50', '53', '60', '52', '740',\n",
       "       'Face_not_visible', '32', '62', nan, '10'], dtype=object)"
      ]
     },
     "execution_count": 36,
     "metadata": {},
     "output_type": "execute_result"
    }
   ],
   "source": [
    "temp3[\"label\"].unique()"
   ]
  },
  {
   "cell_type": "code",
   "execution_count": 37,
   "metadata": {},
   "outputs": [],
   "source": [
    "temp3 = temp3[temp3[\"label\"].notna()]\n",
    "temp3 = temp3[temp3[\"label\"] != 'Face_not_visible']\n",
    "temp3.label = pd.to_numeric(temp3.label, errors='coerce').fillna('x').astype(np.int64)\n",
    "temp3 = temp3[temp3[\"label\"] < 7]\n",
    "temp3[\"label\"].unique()\n",
    "cols_to_keep = [\"image_name\", \"label\"]\n",
    "temp3 = temp3[cols_to_keep]"
   ]
  },
  {
   "cell_type": "code",
   "execution_count": 38,
   "metadata": {},
   "outputs": [
    {
     "data": {
      "text/html": [
       "<div>\n",
       "<style scoped>\n",
       "    .dataframe tbody tr th:only-of-type {\n",
       "        vertical-align: middle;\n",
       "    }\n",
       "\n",
       "    .dataframe tbody tr th {\n",
       "        vertical-align: top;\n",
       "    }\n",
       "\n",
       "    .dataframe thead th {\n",
       "        text-align: right;\n",
       "    }\n",
       "</style>\n",
       "<table border=\"1\" class=\"dataframe\">\n",
       "  <thead>\n",
       "    <tr style=\"text-align: right;\">\n",
       "      <th></th>\n",
       "      <th>image_name</th>\n",
       "      <th>label</th>\n",
       "    </tr>\n",
       "  </thead>\n",
       "  <tbody>\n",
       "    <tr>\n",
       "      <th>0</th>\n",
       "      <td>01August_2011_Monday_heute_default-6.avi_pid0_...</td>\n",
       "      <td>1</td>\n",
       "    </tr>\n",
       "    <tr>\n",
       "      <th>1</th>\n",
       "      <td>01August_2011_Monday_heute_default-6.avi_pid0_...</td>\n",
       "      <td>1</td>\n",
       "    </tr>\n",
       "    <tr>\n",
       "      <th>2</th>\n",
       "      <td>01August_2011_Monday_heute_default-6.avi_pid0_...</td>\n",
       "      <td>1</td>\n",
       "    </tr>\n",
       "    <tr>\n",
       "      <th>3</th>\n",
       "      <td>01August_2011_Monday_heute_default-6.avi_pid0_...</td>\n",
       "      <td>1</td>\n",
       "    </tr>\n",
       "    <tr>\n",
       "      <th>4</th>\n",
       "      <td>01August_2011_Monday_heute_default-6.avi_pid0_...</td>\n",
       "      <td>1</td>\n",
       "    </tr>\n",
       "  </tbody>\n",
       "</table>\n",
       "</div>"
      ],
      "text/plain": [
       "                                          image_name  label\n",
       "0  01August_2011_Monday_heute_default-6.avi_pid0_...      1\n",
       "1  01August_2011_Monday_heute_default-6.avi_pid0_...      1\n",
       "2  01August_2011_Monday_heute_default-6.avi_pid0_...      1\n",
       "3  01August_2011_Monday_heute_default-6.avi_pid0_...      1\n",
       "4  01August_2011_Monday_heute_default-6.avi_pid0_...      1"
      ]
     },
     "execution_count": 38,
     "metadata": {},
     "output_type": "execute_result"
    }
   ],
   "source": [
    "temp3.head()"
   ]
  },
  {
   "cell_type": "markdown",
   "metadata": {},
   "source": [
    "FePh Original Mapping: : <br>\n",
    "\n",
    "0. neutral<br>\n",
    "1. anger<br>\n",
    "2. disgust<br>\n",
    "3. fear<br>\n",
    "4. happy<br>\n",
    "5. sad<br>\n",
    "6. surprise<br>\n",
    "\n",
    "<hr>\n",
    "\n",
    "Target Mapping:<br> \n",
    "1. neutral<br>\n",
    "2. happy<br>\n",
    "3. surprise<br>\n",
    "4. sad<br>\n",
    "5. anger<br>\n",
    "6. disgust<br>\n",
    "7. fear<br>"
   ]
  },
  {
   "cell_type": "code",
   "execution_count": 39,
   "metadata": {},
   "outputs": [],
   "source": [
    "temp3.label = temp3.label.add(100) #create placeholder values to modify in place"
   ]
  },
  {
   "cell_type": "code",
   "execution_count": 40,
   "metadata": {},
   "outputs": [
    {
     "data": {
      "text/html": [
       "<div>\n",
       "<style scoped>\n",
       "    .dataframe tbody tr th:only-of-type {\n",
       "        vertical-align: middle;\n",
       "    }\n",
       "\n",
       "    .dataframe tbody tr th {\n",
       "        vertical-align: top;\n",
       "    }\n",
       "\n",
       "    .dataframe thead th {\n",
       "        text-align: right;\n",
       "    }\n",
       "</style>\n",
       "<table border=\"1\" class=\"dataframe\">\n",
       "  <thead>\n",
       "    <tr style=\"text-align: right;\">\n",
       "      <th></th>\n",
       "      <th>image_name</th>\n",
       "      <th>label</th>\n",
       "    </tr>\n",
       "  </thead>\n",
       "  <tbody>\n",
       "    <tr>\n",
       "      <th>0</th>\n",
       "      <td>01August_2011_Monday_heute_default-6.avi_pid0_...</td>\n",
       "      <td>5</td>\n",
       "    </tr>\n",
       "    <tr>\n",
       "      <th>1</th>\n",
       "      <td>01August_2011_Monday_heute_default-6.avi_pid0_...</td>\n",
       "      <td>5</td>\n",
       "    </tr>\n",
       "    <tr>\n",
       "      <th>2</th>\n",
       "      <td>01August_2011_Monday_heute_default-6.avi_pid0_...</td>\n",
       "      <td>5</td>\n",
       "    </tr>\n",
       "    <tr>\n",
       "      <th>3</th>\n",
       "      <td>01August_2011_Monday_heute_default-6.avi_pid0_...</td>\n",
       "      <td>5</td>\n",
       "    </tr>\n",
       "    <tr>\n",
       "      <th>4</th>\n",
       "      <td>01August_2011_Monday_heute_default-6.avi_pid0_...</td>\n",
       "      <td>5</td>\n",
       "    </tr>\n",
       "  </tbody>\n",
       "</table>\n",
       "</div>"
      ],
      "text/plain": [
       "                                          image_name  label\n",
       "0  01August_2011_Monday_heute_default-6.avi_pid0_...      5\n",
       "1  01August_2011_Monday_heute_default-6.avi_pid0_...      5\n",
       "2  01August_2011_Monday_heute_default-6.avi_pid0_...      5\n",
       "3  01August_2011_Monday_heute_default-6.avi_pid0_...      5\n",
       "4  01August_2011_Monday_heute_default-6.avi_pid0_...      5"
      ]
     },
     "execution_count": 40,
     "metadata": {},
     "output_type": "execute_result"
    }
   ],
   "source": [
    "temp3.label=temp3.label.replace(to_replace=100,value=1)\n",
    "temp3.label=temp3.label.replace(to_replace=101,value=5)\n",
    "temp3.label=temp3.label.replace(to_replace=102,value=6)\n",
    "temp3.label=temp3.label.replace(to_replace=103,value=7)\n",
    "temp3.label=temp3.label.replace(to_replace=104,value=2)\n",
    "temp3.label=temp3.label.replace(to_replace=105,value=4)\n",
    "temp3.label=temp3.label.replace(to_replace=106,value=3)\n",
    "\n",
    "feph_labels = temp3\n",
    "feph_labels.head()"
   ]
  },
  {
   "cell_type": "code",
   "execution_count": 41,
   "metadata": {},
   "outputs": [
    {
     "data": {
      "image/png": "[encoded data removed]",
      "text/plain": [
       "<Figure size 432x288 with 1 Axes>"
      ]
     },
     "metadata": {
      "needs_background": "light"
     },
     "output_type": "display_data"
    }
   ],
   "source": [
    "feph_labels.label.value_counts().plot(kind='bar')\n",
    "plt.title('FePh - Labels counts')\n",
    "plt.xlabel('Label')\n",
    "plt.ylabel('Count')\n",
    "plt.show()"
   ]
  },
  {
   "cell_type": "markdown",
   "metadata": {},
   "source": [
    "This dataset is also unbalanced, but lass than RAF-DB. It is thus a useful addition to our collection of datasets.\n",
    "\n",
    "<hr>"
   ]
  },
  {
   "cell_type": "markdown",
   "metadata": {},
   "source": [
    "## 3. FER+: Facial Expression Recognition (35887 images)\n",
    "\n",
    "The FER dataset is a collection of faces with particular expressions taken in a controlled setting. The FER dataset ground truth was improved by assigning new labels to the original pictures. Each of the 10 annotators cast a vote to which emotion class the picture belongs. Thus, the new labels are a distribution of 10 votes instead of a single number. We use the majority criterium as our best guess, as proposed by MS Research.\n",
    "\n",
    "Link: \n",
    "\n",
    "New Labels: \n",
    "https://github.com/microsoft/FERPlus\n",
    "\n",
    "Original Data: \n",
    "https://www.kaggle.com/c/challenges-in-representation-learning-facial-expression-recognition-challenge/data"
   ]
  },
  {
   "cell_type": "code",
   "execution_count": 42,
   "metadata": {},
   "outputs": [],
   "source": [
    "fer_orig_filedir = directory + 'data_exp_rec/fer2013/fer2013.csv'\n",
    "fer_new_filedir = directory + 'data_exp_rec/FERPlus-master/fer2013new.csv'\n",
    "\n",
    "fer_orig = pd.read_csv(fer_orig_filedir)\n",
    "fer_newlabels = pd.read_csv(fer_new_filedir)"
   ]
  },
  {
   "cell_type": "code",
   "execution_count": 43,
   "metadata": {},
   "outputs": [
    {
     "data": {
      "text/html": [
       "<div>\n",
       "<style scoped>\n",
       "    .dataframe tbody tr th:only-of-type {\n",
       "        vertical-align: middle;\n",
       "    }\n",
       "\n",
       "    .dataframe tbody tr th {\n",
       "        vertical-align: top;\n",
       "    }\n",
       "\n",
       "    .dataframe thead th {\n",
       "        text-align: right;\n",
       "    }\n",
       "</style>\n",
       "<table border=\"1\" class=\"dataframe\">\n",
       "  <thead>\n",
       "    <tr style=\"text-align: right;\">\n",
       "      <th></th>\n",
       "      <th>pixels</th>\n",
       "      <th>Usage</th>\n",
       "    </tr>\n",
       "  </thead>\n",
       "  <tbody>\n",
       "    <tr>\n",
       "      <th>0</th>\n",
       "      <td>70 80 82 72 58 58 60 63 54 58 60 48 89 115 121...</td>\n",
       "      <td>Training</td>\n",
       "    </tr>\n",
       "    <tr>\n",
       "      <th>1</th>\n",
       "      <td>151 150 147 155 148 133 111 140 170 174 182 15...</td>\n",
       "      <td>Training</td>\n",
       "    </tr>\n",
       "    <tr>\n",
       "      <th>2</th>\n",
       "      <td>231 212 156 164 174 138 161 173 182 200 106 38...</td>\n",
       "      <td>Training</td>\n",
       "    </tr>\n",
       "    <tr>\n",
       "      <th>3</th>\n",
       "      <td>24 32 36 30 32 23 19 20 30 41 21 22 32 34 21 1...</td>\n",
       "      <td>Training</td>\n",
       "    </tr>\n",
       "    <tr>\n",
       "      <th>4</th>\n",
       "      <td>4 0 0 0 0 0 0 0 0 0 0 0 3 15 23 28 48 50 58 84...</td>\n",
       "      <td>Training</td>\n",
       "    </tr>\n",
       "  </tbody>\n",
       "</table>\n",
       "</div>"
      ],
      "text/plain": [
       "                                              pixels     Usage\n",
       "0  70 80 82 72 58 58 60 63 54 58 60 48 89 115 121...  Training\n",
       "1  151 150 147 155 148 133 111 140 170 174 182 15...  Training\n",
       "2  231 212 156 164 174 138 161 173 182 200 106 38...  Training\n",
       "3  24 32 36 30 32 23 19 20 30 41 21 22 32 34 21 1...  Training\n",
       "4  4 0 0 0 0 0 0 0 0 0 0 0 3 15 23 28 48 50 58 84...  Training"
      ]
     },
     "execution_count": 43,
     "metadata": {},
     "output_type": "execute_result"
    }
   ],
   "source": [
    "fer_orig = fer_orig.iloc[:,[1,2]] #drop the old emotion labels\n",
    "fer_orig.head()"
   ]
  },
  {
   "cell_type": "code",
   "execution_count": 44,
   "metadata": {},
   "outputs": [
    {
     "data": {
      "text/html": [
       "<div>\n",
       "<style scoped>\n",
       "    .dataframe tbody tr th:only-of-type {\n",
       "        vertical-align: middle;\n",
       "    }\n",
       "\n",
       "    .dataframe tbody tr th {\n",
       "        vertical-align: top;\n",
       "    }\n",
       "\n",
       "    .dataframe thead th {\n",
       "        text-align: right;\n",
       "    }\n",
       "</style>\n",
       "<table border=\"1\" class=\"dataframe\">\n",
       "  <thead>\n",
       "    <tr style=\"text-align: right;\">\n",
       "      <th></th>\n",
       "      <th>Usage</th>\n",
       "      <th>Image name</th>\n",
       "      <th>neutral</th>\n",
       "      <th>happiness</th>\n",
       "      <th>surprise</th>\n",
       "      <th>sadness</th>\n",
       "      <th>anger</th>\n",
       "      <th>disgust</th>\n",
       "      <th>fear</th>\n",
       "      <th>contempt</th>\n",
       "      <th>unknown</th>\n",
       "      <th>NF</th>\n",
       "    </tr>\n",
       "  </thead>\n",
       "  <tbody>\n",
       "    <tr>\n",
       "      <th>0</th>\n",
       "      <td>Training</td>\n",
       "      <td>fer0000000.png</td>\n",
       "      <td>4</td>\n",
       "      <td>0</td>\n",
       "      <td>0</td>\n",
       "      <td>1</td>\n",
       "      <td>3</td>\n",
       "      <td>2</td>\n",
       "      <td>0</td>\n",
       "      <td>0</td>\n",
       "      <td>0</td>\n",
       "      <td>0</td>\n",
       "    </tr>\n",
       "    <tr>\n",
       "      <th>1</th>\n",
       "      <td>Training</td>\n",
       "      <td>fer0000001.png</td>\n",
       "      <td>6</td>\n",
       "      <td>0</td>\n",
       "      <td>1</td>\n",
       "      <td>1</td>\n",
       "      <td>0</td>\n",
       "      <td>0</td>\n",
       "      <td>0</td>\n",
       "      <td>0</td>\n",
       "      <td>2</td>\n",
       "      <td>0</td>\n",
       "    </tr>\n",
       "    <tr>\n",
       "      <th>2</th>\n",
       "      <td>Training</td>\n",
       "      <td>fer0000002.png</td>\n",
       "      <td>5</td>\n",
       "      <td>0</td>\n",
       "      <td>0</td>\n",
       "      <td>3</td>\n",
       "      <td>1</td>\n",
       "      <td>0</td>\n",
       "      <td>0</td>\n",
       "      <td>0</td>\n",
       "      <td>1</td>\n",
       "      <td>0</td>\n",
       "    </tr>\n",
       "    <tr>\n",
       "      <th>3</th>\n",
       "      <td>Training</td>\n",
       "      <td>fer0000003.png</td>\n",
       "      <td>4</td>\n",
       "      <td>0</td>\n",
       "      <td>0</td>\n",
       "      <td>4</td>\n",
       "      <td>1</td>\n",
       "      <td>0</td>\n",
       "      <td>0</td>\n",
       "      <td>0</td>\n",
       "      <td>1</td>\n",
       "      <td>0</td>\n",
       "    </tr>\n",
       "    <tr>\n",
       "      <th>4</th>\n",
       "      <td>Training</td>\n",
       "      <td>fer0000004.png</td>\n",
       "      <td>9</td>\n",
       "      <td>0</td>\n",
       "      <td>0</td>\n",
       "      <td>1</td>\n",
       "      <td>0</td>\n",
       "      <td>0</td>\n",
       "      <td>0</td>\n",
       "      <td>0</td>\n",
       "      <td>0</td>\n",
       "      <td>0</td>\n",
       "    </tr>\n",
       "  </tbody>\n",
       "</table>\n",
       "</div>"
      ],
      "text/plain": [
       "      Usage      Image name  neutral  happiness  surprise  sadness  anger  \\\n",
       "0  Training  fer0000000.png        4          0         0        1      3   \n",
       "1  Training  fer0000001.png        6          0         1        1      0   \n",
       "2  Training  fer0000002.png        5          0         0        3      1   \n",
       "3  Training  fer0000003.png        4          0         0        4      1   \n",
       "4  Training  fer0000004.png        9          0         0        1      0   \n",
       "\n",
       "   disgust  fear  contempt  unknown  NF  \n",
       "0        2     0         0        0   0  \n",
       "1        0     0         0        2   0  \n",
       "2        0     0         0        1   0  \n",
       "3        0     0         0        1   0  \n",
       "4        0     0         0        0   0  "
      ]
     },
     "execution_count": 44,
     "metadata": {},
     "output_type": "execute_result"
    }
   ],
   "source": [
    "fer_newlabels.head()"
   ]
  },
  {
   "cell_type": "markdown",
   "metadata": {},
   "source": [
    "Next, we cast a majority vote on the emotions assigned to each picture. Since there are some ties (e.g. row index 3), we drop all pictures for which there are ties in the after merging the old and the new dataframe, resulting in less drop operations. "
   ]
  },
  {
   "cell_type": "code",
   "execution_count": 45,
   "metadata": {},
   "outputs": [
    {
     "data": {
      "text/html": [
       "<div>\n",
       "<style scoped>\n",
       "    .dataframe tbody tr th:only-of-type {\n",
       "        vertical-align: middle;\n",
       "    }\n",
       "\n",
       "    .dataframe tbody tr th {\n",
       "        vertical-align: top;\n",
       "    }\n",
       "\n",
       "    .dataframe thead th {\n",
       "        text-align: right;\n",
       "    }\n",
       "</style>\n",
       "<table border=\"1\" class=\"dataframe\">\n",
       "  <thead>\n",
       "    <tr style=\"text-align: right;\">\n",
       "      <th></th>\n",
       "      <th>Usage</th>\n",
       "      <th>Image name</th>\n",
       "      <th>neutral</th>\n",
       "      <th>happiness</th>\n",
       "      <th>surprise</th>\n",
       "      <th>sadness</th>\n",
       "      <th>anger</th>\n",
       "      <th>disgust</th>\n",
       "      <th>fear</th>\n",
       "      <th>contempt</th>\n",
       "      <th>unknown</th>\n",
       "      <th>NF</th>\n",
       "    </tr>\n",
       "  </thead>\n",
       "  <tbody>\n",
       "    <tr>\n",
       "      <th>0</th>\n",
       "      <td>Training</td>\n",
       "      <td>fer0000000.png</td>\n",
       "      <td>1</td>\n",
       "      <td>0</td>\n",
       "      <td>0</td>\n",
       "      <td>0</td>\n",
       "      <td>0</td>\n",
       "      <td>0</td>\n",
       "      <td>0</td>\n",
       "      <td>0</td>\n",
       "      <td>0</td>\n",
       "      <td>0</td>\n",
       "    </tr>\n",
       "    <tr>\n",
       "      <th>1</th>\n",
       "      <td>Training</td>\n",
       "      <td>fer0000001.png</td>\n",
       "      <td>1</td>\n",
       "      <td>0</td>\n",
       "      <td>0</td>\n",
       "      <td>0</td>\n",
       "      <td>0</td>\n",
       "      <td>0</td>\n",
       "      <td>0</td>\n",
       "      <td>0</td>\n",
       "      <td>0</td>\n",
       "      <td>0</td>\n",
       "    </tr>\n",
       "    <tr>\n",
       "      <th>2</th>\n",
       "      <td>Training</td>\n",
       "      <td>fer0000002.png</td>\n",
       "      <td>1</td>\n",
       "      <td>0</td>\n",
       "      <td>0</td>\n",
       "      <td>0</td>\n",
       "      <td>0</td>\n",
       "      <td>0</td>\n",
       "      <td>0</td>\n",
       "      <td>0</td>\n",
       "      <td>0</td>\n",
       "      <td>0</td>\n",
       "    </tr>\n",
       "    <tr>\n",
       "      <th>3</th>\n",
       "      <td>Training</td>\n",
       "      <td>fer0000003.png</td>\n",
       "      <td>1</td>\n",
       "      <td>0</td>\n",
       "      <td>0</td>\n",
       "      <td>1</td>\n",
       "      <td>0</td>\n",
       "      <td>0</td>\n",
       "      <td>0</td>\n",
       "      <td>0</td>\n",
       "      <td>0</td>\n",
       "      <td>0</td>\n",
       "    </tr>\n",
       "    <tr>\n",
       "      <th>4</th>\n",
       "      <td>Training</td>\n",
       "      <td>fer0000004.png</td>\n",
       "      <td>1</td>\n",
       "      <td>0</td>\n",
       "      <td>0</td>\n",
       "      <td>0</td>\n",
       "      <td>0</td>\n",
       "      <td>0</td>\n",
       "      <td>0</td>\n",
       "      <td>0</td>\n",
       "      <td>0</td>\n",
       "      <td>0</td>\n",
       "    </tr>\n",
       "  </tbody>\n",
       "</table>\n",
       "</div>"
      ],
      "text/plain": [
       "      Usage      Image name  neutral  happiness  surprise  sadness  anger  \\\n",
       "0  Training  fer0000000.png        1          0         0        0      0   \n",
       "1  Training  fer0000001.png        1          0         0        0      0   \n",
       "2  Training  fer0000002.png        1          0         0        0      0   \n",
       "3  Training  fer0000003.png        1          0         0        1      0   \n",
       "4  Training  fer0000004.png        1          0         0        0      0   \n",
       "\n",
       "   disgust  fear  contempt  unknown  NF  \n",
       "0        0     0         0        0   0  \n",
       "1        0     0         0        0   0  \n",
       "2        0     0         0        0   0  \n",
       "3        0     0         0        0   0  \n",
       "4        0     0         0        0   0  "
      ]
     },
     "execution_count": 45,
     "metadata": {},
     "output_type": "execute_result"
    }
   ],
   "source": [
    "def emot_maj_vote(ds):\n",
    "    \n",
    "    '''Among the selected columns containing integers,\n",
    "        this function identifies the column with the highest integer\n",
    "        and sets it to 1, while other selected columns are zeroed'''\n",
    "    \n",
    "    affected = (ds != 0).any(axis=1)\n",
    "    cols = ds.loc[affected]\n",
    "    ds[affected] = (cols.T == cols.max(axis=1)).T.astype(int)\n",
    "    return ds\n",
    "\n",
    "split1 = fer_newlabels.loc[:,['Usage', 'Image name']]\n",
    "split2 = fer_newlabels.iloc[:, 2:]\n",
    "split2_max = emot_maj_vote(split2)\n",
    "fer_new= pd.concat([split1, split2_max], axis=1)\n",
    "fer_new.head()"
   ]
  },
  {
   "cell_type": "markdown",
   "metadata": {},
   "source": [
    "Merging the old dataframe with the picture data + old labels with the new labels"
   ]
  },
  {
   "cell_type": "code",
   "execution_count": 46,
   "metadata": {},
   "outputs": [],
   "source": [
    "# Check if we can merge the data!\n",
    "assert len(fer_orig) == len(fer_new)\n",
    "fer_final= pd.concat([fer_orig, fer_new], axis=1)\n",
    "assert len(fer_final) == len(fer_orig)"
   ]
  },
  {
   "cell_type": "code",
   "execution_count": 47,
   "metadata": {},
   "outputs": [
    {
     "name": "stdout",
     "output_type": "stream",
     "text": [
      "['pixels', 'Usage', 'Usage', 'Image name', 'neutral', 'happiness', 'surprise', 'sadness', 'anger', 'disgust', 'fear', 'contempt', 'unknown', 'NF']\n"
     ]
    }
   ],
   "source": [
    "column_list = list(fer_final)\n",
    "print(column_list)"
   ]
  },
  {
   "cell_type": "code",
   "execution_count": 48,
   "metadata": {},
   "outputs": [
    {
     "data": {
      "text/html": [
       "<div>\n",
       "<style scoped>\n",
       "    .dataframe tbody tr th:only-of-type {\n",
       "        vertical-align: middle;\n",
       "    }\n",
       "\n",
       "    .dataframe tbody tr th {\n",
       "        vertical-align: top;\n",
       "    }\n",
       "\n",
       "    .dataframe thead th {\n",
       "        text-align: right;\n",
       "    }\n",
       "</style>\n",
       "<table border=\"1\" class=\"dataframe\">\n",
       "  <thead>\n",
       "    <tr style=\"text-align: right;\">\n",
       "      <th></th>\n",
       "      <th>pixels</th>\n",
       "      <th>Image name</th>\n",
       "      <th>neutral</th>\n",
       "      <th>happiness</th>\n",
       "      <th>surprise</th>\n",
       "      <th>sadness</th>\n",
       "      <th>anger</th>\n",
       "      <th>disgust</th>\n",
       "      <th>fear</th>\n",
       "      <th>contempt</th>\n",
       "      <th>unknown</th>\n",
       "      <th>NF</th>\n",
       "    </tr>\n",
       "  </thead>\n",
       "  <tbody>\n",
       "    <tr>\n",
       "      <th>0</th>\n",
       "      <td>70 80 82 72 58 58 60 63 54 58 60 48 89 115 121...</td>\n",
       "      <td>fer0000000.png</td>\n",
       "      <td>1</td>\n",
       "      <td>0</td>\n",
       "      <td>0</td>\n",
       "      <td>0</td>\n",
       "      <td>0</td>\n",
       "      <td>0</td>\n",
       "      <td>0</td>\n",
       "      <td>0</td>\n",
       "      <td>0</td>\n",
       "      <td>0</td>\n",
       "    </tr>\n",
       "    <tr>\n",
       "      <th>1</th>\n",
       "      <td>151 150 147 155 148 133 111 140 170 174 182 15...</td>\n",
       "      <td>fer0000001.png</td>\n",
       "      <td>1</td>\n",
       "      <td>0</td>\n",
       "      <td>0</td>\n",
       "      <td>0</td>\n",
       "      <td>0</td>\n",
       "      <td>0</td>\n",
       "      <td>0</td>\n",
       "      <td>0</td>\n",
       "      <td>0</td>\n",
       "      <td>0</td>\n",
       "    </tr>\n",
       "    <tr>\n",
       "      <th>2</th>\n",
       "      <td>231 212 156 164 174 138 161 173 182 200 106 38...</td>\n",
       "      <td>fer0000002.png</td>\n",
       "      <td>1</td>\n",
       "      <td>0</td>\n",
       "      <td>0</td>\n",
       "      <td>0</td>\n",
       "      <td>0</td>\n",
       "      <td>0</td>\n",
       "      <td>0</td>\n",
       "      <td>0</td>\n",
       "      <td>0</td>\n",
       "      <td>0</td>\n",
       "    </tr>\n",
       "    <tr>\n",
       "      <th>3</th>\n",
       "      <td>24 32 36 30 32 23 19 20 30 41 21 22 32 34 21 1...</td>\n",
       "      <td>fer0000003.png</td>\n",
       "      <td>1</td>\n",
       "      <td>0</td>\n",
       "      <td>0</td>\n",
       "      <td>1</td>\n",
       "      <td>0</td>\n",
       "      <td>0</td>\n",
       "      <td>0</td>\n",
       "      <td>0</td>\n",
       "      <td>0</td>\n",
       "      <td>0</td>\n",
       "    </tr>\n",
       "    <tr>\n",
       "      <th>4</th>\n",
       "      <td>4 0 0 0 0 0 0 0 0 0 0 0 3 15 23 28 48 50 58 84...</td>\n",
       "      <td>fer0000004.png</td>\n",
       "      <td>1</td>\n",
       "      <td>0</td>\n",
       "      <td>0</td>\n",
       "      <td>0</td>\n",
       "      <td>0</td>\n",
       "      <td>0</td>\n",
       "      <td>0</td>\n",
       "      <td>0</td>\n",
       "      <td>0</td>\n",
       "      <td>0</td>\n",
       "    </tr>\n",
       "  </tbody>\n",
       "</table>\n",
       "</div>"
      ],
      "text/plain": [
       "                                              pixels      Image name  neutral  \\\n",
       "0  70 80 82 72 58 58 60 63 54 58 60 48 89 115 121...  fer0000000.png        1   \n",
       "1  151 150 147 155 148 133 111 140 170 174 182 15...  fer0000001.png        1   \n",
       "2  231 212 156 164 174 138 161 173 182 200 106 38...  fer0000002.png        1   \n",
       "3  24 32 36 30 32 23 19 20 30 41 21 22 32 34 21 1...  fer0000003.png        1   \n",
       "4  4 0 0 0 0 0 0 0 0 0 0 0 3 15 23 28 48 50 58 84...  fer0000004.png        1   \n",
       "\n",
       "   happiness  surprise  sadness  anger  disgust  fear  contempt  unknown  NF  \n",
       "0          0         0        0      0        0     0         0        0   0  \n",
       "1          0         0        0      0        0     0         0        0   0  \n",
       "2          0         0        0      0        0     0         0        0   0  \n",
       "3          0         0        1      0        0     0         0        0   0  \n",
       "4          0         0        0      0        0     0         0        0   0  "
      ]
     },
     "execution_count": 48,
     "metadata": {},
     "output_type": "execute_result"
    }
   ],
   "source": [
    "#drop superfluous rows\n",
    "column_list.remove(\"Usage\")\n",
    "column_list.remove(\"Usage\") #we have two \"Usage\" columns\n",
    "fer_final = fer_final[column_list]\n",
    "fer_final.head()"
   ]
  },
  {
   "cell_type": "markdown",
   "metadata": {},
   "source": [
    "Next, we drop the ties by summing across all emotion rows, when sum != 1, it is a tie."
   ]
  },
  {
   "cell_type": "code",
   "execution_count": 49,
   "metadata": {},
   "outputs": [
    {
     "name": "stdout",
     "output_type": "stream",
     "text": [
      "['pixels', 'Image name', 'neutral', 'happiness', 'surprise', 'sadness', 'anger', 'disgust', 'fear', 'contempt', 'unknown', 'NF']\n"
     ]
    }
   ],
   "source": [
    "column_list1 = list(fer_final)\n",
    "print(column_list1)\n",
    "column_list1.remove(\"pixels\")\n",
    "column_list1.remove(\"Image name\")\n",
    "\n",
    "#drop all pictures that have more than one label\n",
    "fer_final[\"row_sum\"] = fer_final[column_list1].sum(axis=1)\n",
    "fer_final = fer_final[fer_final[\"row_sum\"] == 1]\n",
    "assert fer_final.row_sum.unique() == 1 \n",
    "del fer_final['row_sum']"
   ]
  },
  {
   "cell_type": "code",
   "execution_count": 50,
   "metadata": {},
   "outputs": [
    {
     "data": {
      "text/html": [
       "<div>\n",
       "<style scoped>\n",
       "    .dataframe tbody tr th:only-of-type {\n",
       "        vertical-align: middle;\n",
       "    }\n",
       "\n",
       "    .dataframe tbody tr th {\n",
       "        vertical-align: top;\n",
       "    }\n",
       "\n",
       "    .dataframe thead th {\n",
       "        text-align: right;\n",
       "    }\n",
       "</style>\n",
       "<table border=\"1\" class=\"dataframe\">\n",
       "  <thead>\n",
       "    <tr style=\"text-align: right;\">\n",
       "      <th></th>\n",
       "      <th>pixels</th>\n",
       "      <th>Image name</th>\n",
       "      <th>neutral</th>\n",
       "      <th>happiness</th>\n",
       "      <th>surprise</th>\n",
       "      <th>sadness</th>\n",
       "      <th>anger</th>\n",
       "      <th>disgust</th>\n",
       "      <th>fear</th>\n",
       "      <th>contempt</th>\n",
       "      <th>unknown</th>\n",
       "      <th>NF</th>\n",
       "    </tr>\n",
       "  </thead>\n",
       "  <tbody>\n",
       "    <tr>\n",
       "      <th>0</th>\n",
       "      <td>70 80 82 72 58 58 60 63 54 58 60 48 89 115 121...</td>\n",
       "      <td>fer0000000.png</td>\n",
       "      <td>1</td>\n",
       "      <td>0</td>\n",
       "      <td>0</td>\n",
       "      <td>0</td>\n",
       "      <td>0</td>\n",
       "      <td>0</td>\n",
       "      <td>0</td>\n",
       "      <td>0</td>\n",
       "      <td>0</td>\n",
       "      <td>0</td>\n",
       "    </tr>\n",
       "    <tr>\n",
       "      <th>1</th>\n",
       "      <td>151 150 147 155 148 133 111 140 170 174 182 15...</td>\n",
       "      <td>fer0000001.png</td>\n",
       "      <td>1</td>\n",
       "      <td>0</td>\n",
       "      <td>0</td>\n",
       "      <td>0</td>\n",
       "      <td>0</td>\n",
       "      <td>0</td>\n",
       "      <td>0</td>\n",
       "      <td>0</td>\n",
       "      <td>0</td>\n",
       "      <td>0</td>\n",
       "    </tr>\n",
       "    <tr>\n",
       "      <th>2</th>\n",
       "      <td>231 212 156 164 174 138 161 173 182 200 106 38...</td>\n",
       "      <td>fer0000002.png</td>\n",
       "      <td>1</td>\n",
       "      <td>0</td>\n",
       "      <td>0</td>\n",
       "      <td>0</td>\n",
       "      <td>0</td>\n",
       "      <td>0</td>\n",
       "      <td>0</td>\n",
       "      <td>0</td>\n",
       "      <td>0</td>\n",
       "      <td>0</td>\n",
       "    </tr>\n",
       "    <tr>\n",
       "      <th>4</th>\n",
       "      <td>4 0 0 0 0 0 0 0 0 0 0 0 3 15 23 28 48 50 58 84...</td>\n",
       "      <td>fer0000004.png</td>\n",
       "      <td>1</td>\n",
       "      <td>0</td>\n",
       "      <td>0</td>\n",
       "      <td>0</td>\n",
       "      <td>0</td>\n",
       "      <td>0</td>\n",
       "      <td>0</td>\n",
       "      <td>0</td>\n",
       "      <td>0</td>\n",
       "      <td>0</td>\n",
       "    </tr>\n",
       "    <tr>\n",
       "      <th>5</th>\n",
       "      <td>55 55 55 55 55 54 60 68 54 85 151 163 170 179 ...</td>\n",
       "      <td>fer0000005.png</td>\n",
       "      <td>1</td>\n",
       "      <td>0</td>\n",
       "      <td>0</td>\n",
       "      <td>0</td>\n",
       "      <td>0</td>\n",
       "      <td>0</td>\n",
       "      <td>0</td>\n",
       "      <td>0</td>\n",
       "      <td>0</td>\n",
       "      <td>0</td>\n",
       "    </tr>\n",
       "  </tbody>\n",
       "</table>\n",
       "</div>"
      ],
      "text/plain": [
       "                                              pixels      Image name  neutral  \\\n",
       "0  70 80 82 72 58 58 60 63 54 58 60 48 89 115 121...  fer0000000.png        1   \n",
       "1  151 150 147 155 148 133 111 140 170 174 182 15...  fer0000001.png        1   \n",
       "2  231 212 156 164 174 138 161 173 182 200 106 38...  fer0000002.png        1   \n",
       "4  4 0 0 0 0 0 0 0 0 0 0 0 3 15 23 28 48 50 58 84...  fer0000004.png        1   \n",
       "5  55 55 55 55 55 54 60 68 54 85 151 163 170 179 ...  fer0000005.png        1   \n",
       "\n",
       "   happiness  surprise  sadness  anger  disgust  fear  contempt  unknown  NF  \n",
       "0          0         0        0      0        0     0         0        0   0  \n",
       "1          0         0        0      0        0     0         0        0   0  \n",
       "2          0         0        0      0        0     0         0        0   0  \n",
       "4          0         0        0      0        0     0         0        0   0  \n",
       "5          0         0        0      0        0     0         0        0   0  "
      ]
     },
     "execution_count": 50,
     "metadata": {},
     "output_type": "execute_result"
    }
   ],
   "source": [
    "fer_final.head()"
   ]
  },
  {
   "cell_type": "markdown",
   "metadata": {},
   "source": [
    "After merging the old and the new dataframe with the image pixel data,\n",
    "we have to drop the following rows and colums:\n",
    "* the rows with NAN in the image_name column\n",
    "* the rows which contains images belonging to the emotion categories: \n",
    "        - contempt\n",
    "        - unknown \n",
    "        - NF\n",
    "* subsequently, we drop the columns contempt, unknown, NF"
   ]
  },
  {
   "cell_type": "code",
   "execution_count": 51,
   "metadata": {},
   "outputs": [
    {
     "data": {
      "text/html": [
       "<div>\n",
       "<style scoped>\n",
       "    .dataframe tbody tr th:only-of-type {\n",
       "        vertical-align: middle;\n",
       "    }\n",
       "\n",
       "    .dataframe tbody tr th {\n",
       "        vertical-align: top;\n",
       "    }\n",
       "\n",
       "    .dataframe thead th {\n",
       "        text-align: right;\n",
       "    }\n",
       "</style>\n",
       "<table border=\"1\" class=\"dataframe\">\n",
       "  <thead>\n",
       "    <tr style=\"text-align: right;\">\n",
       "      <th></th>\n",
       "      <th>pixels</th>\n",
       "      <th>image_name</th>\n",
       "      <th>neutral</th>\n",
       "      <th>happiness</th>\n",
       "      <th>surprise</th>\n",
       "      <th>sadness</th>\n",
       "      <th>anger</th>\n",
       "      <th>disgust</th>\n",
       "      <th>fear</th>\n",
       "    </tr>\n",
       "  </thead>\n",
       "  <tbody>\n",
       "    <tr>\n",
       "      <th>0</th>\n",
       "      <td>70 80 82 72 58 58 60 63 54 58 60 48 89 115 121...</td>\n",
       "      <td>fer0000000.png</td>\n",
       "      <td>1</td>\n",
       "      <td>0</td>\n",
       "      <td>0</td>\n",
       "      <td>0</td>\n",
       "      <td>0</td>\n",
       "      <td>0</td>\n",
       "      <td>0</td>\n",
       "    </tr>\n",
       "    <tr>\n",
       "      <th>1</th>\n",
       "      <td>151 150 147 155 148 133 111 140 170 174 182 15...</td>\n",
       "      <td>fer0000001.png</td>\n",
       "      <td>1</td>\n",
       "      <td>0</td>\n",
       "      <td>0</td>\n",
       "      <td>0</td>\n",
       "      <td>0</td>\n",
       "      <td>0</td>\n",
       "      <td>0</td>\n",
       "    </tr>\n",
       "    <tr>\n",
       "      <th>2</th>\n",
       "      <td>231 212 156 164 174 138 161 173 182 200 106 38...</td>\n",
       "      <td>fer0000002.png</td>\n",
       "      <td>1</td>\n",
       "      <td>0</td>\n",
       "      <td>0</td>\n",
       "      <td>0</td>\n",
       "      <td>0</td>\n",
       "      <td>0</td>\n",
       "      <td>0</td>\n",
       "    </tr>\n",
       "    <tr>\n",
       "      <th>4</th>\n",
       "      <td>4 0 0 0 0 0 0 0 0 0 0 0 3 15 23 28 48 50 58 84...</td>\n",
       "      <td>fer0000004.png</td>\n",
       "      <td>1</td>\n",
       "      <td>0</td>\n",
       "      <td>0</td>\n",
       "      <td>0</td>\n",
       "      <td>0</td>\n",
       "      <td>0</td>\n",
       "      <td>0</td>\n",
       "    </tr>\n",
       "    <tr>\n",
       "      <th>5</th>\n",
       "      <td>55 55 55 55 55 54 60 68 54 85 151 163 170 179 ...</td>\n",
       "      <td>fer0000005.png</td>\n",
       "      <td>1</td>\n",
       "      <td>0</td>\n",
       "      <td>0</td>\n",
       "      <td>0</td>\n",
       "      <td>0</td>\n",
       "      <td>0</td>\n",
       "      <td>0</td>\n",
       "    </tr>\n",
       "  </tbody>\n",
       "</table>\n",
       "</div>"
      ],
      "text/plain": [
       "                                              pixels      image_name  neutral  \\\n",
       "0  70 80 82 72 58 58 60 63 54 58 60 48 89 115 121...  fer0000000.png        1   \n",
       "1  151 150 147 155 148 133 111 140 170 174 182 15...  fer0000001.png        1   \n",
       "2  231 212 156 164 174 138 161 173 182 200 106 38...  fer0000002.png        1   \n",
       "4  4 0 0 0 0 0 0 0 0 0 0 0 3 15 23 28 48 50 58 84...  fer0000004.png        1   \n",
       "5  55 55 55 55 55 54 60 68 54 85 151 163 170 179 ...  fer0000005.png        1   \n",
       "\n",
       "   happiness  surprise  sadness  anger  disgust  fear  \n",
       "0          0         0        0      0        0     0  \n",
       "1          0         0        0      0        0     0  \n",
       "2          0         0        0      0        0     0  \n",
       "4          0         0        0      0        0     0  \n",
       "5          0         0        0      0        0     0  "
      ]
     },
     "execution_count": 51,
     "metadata": {},
     "output_type": "execute_result"
    }
   ],
   "source": [
    "fer_final = fer_final.rename({'Image name': 'image_name',}, axis=1)\n",
    "fer_final.image_name = fer_final.image_name.dropna()\n",
    "\n",
    "fer_final = fer_final[fer_final.contempt == 0]\n",
    "fer_final = fer_final[fer_final.unknown == 0]\n",
    "fer_final = fer_final[fer_final.NF == 0]\n",
    "\n",
    "fer_final = fer_final.iloc[:,:9]\n",
    "fer_final.head()"
   ]
  },
  {
   "cell_type": "markdown",
   "metadata": {},
   "source": [
    "Assign the \"one-hot\" columns our wanted emotion mapping and then manipulate the dataframe in the wanted two column format, where the first column contains the image names and the second column the corresponding labels:"
   ]
  },
  {
   "cell_type": "code",
   "execution_count": 52,
   "metadata": {},
   "outputs": [],
   "source": [
    "fer_final = fer_final.replace(to_replace = {'neutral': 1,\n",
    "                                'happiness': 1,\n",
    "                                'surprise': 1,\n",
    "                                'sadness': 1,\n",
    "                                'anger':1,\n",
    "                                'disgust':1,\n",
    "                                'fear':1\n",
    "                               },\n",
    "                  value = {'neutral': 1,\n",
    "                                'happiness': 2,\n",
    "                                'surprise': 3,\n",
    "                                'sadness': 4,\n",
    "                                'anger':5,\n",
    "                                'disgust':6,\n",
    "                                'fear':7\n",
    "                               },\n",
    "                               )"
   ]
  },
  {
   "cell_type": "code",
   "execution_count": 53,
   "metadata": {},
   "outputs": [
    {
     "name": "stdout",
     "output_type": "stream",
     "text": [
      "['pixels', 'image_name', 'neutral', 'happiness', 'surprise', 'sadness', 'anger', 'disgust', 'fear']\n"
     ]
    }
   ],
   "source": [
    "col_list_temp = list(fer_final)\n",
    "print(col_list_temp)\n",
    "\n",
    "col_list_temp.remove(\"pixels\")\n",
    "col_list_temp.remove(\"image_name\")"
   ]
  },
  {
   "cell_type": "code",
   "execution_count": 54,
   "metadata": {},
   "outputs": [],
   "source": [
    "fer_final[\"label\"] = fer_final[col_list_temp].sum(axis=1).astype(np.int32) \n",
    "labels_to_keep = [\"image_name\",\"label\"]\n",
    "fer_labels = fer_final[labels_to_keep]"
   ]
  },
  {
   "cell_type": "code",
   "execution_count": 55,
   "metadata": {},
   "outputs": [
    {
     "data": {
      "image/png": "[encoded data removed]",
      "text/plain": [
       "<Figure size 432x288 with 1 Axes>"
      ]
     },
     "metadata": {
      "needs_background": "light"
     },
     "output_type": "display_data"
    }
   ],
   "source": [
    "fer_labels.label.value_counts().plot(kind='bar')\n",
    "plt.title('FER+ label counts')\n",
    "plt.xlabel('Label')\n",
    "plt.ylabel('Count')\n",
    "plt.show()"
   ]
  },
  {
   "cell_type": "markdown",
   "metadata": {},
   "source": [
    "Also the FER+ dataset suffers from a strong class imbalance for the categories fear and disgust."
   ]
  },
  {
   "cell_type": "markdown",
   "metadata": {},
   "source": [
    "To create a single folder with all images, we convert the pixels to 48x48 images and save them in the directory!\n",
    "\n",
    "Note: Since the FER images are grayscaled, we stack three tiles of the same image on top of each other to create 3 channels in disguise. In this way, we can easily feed the images into our neural network.  "
   ]
  },
  {
   "cell_type": "code",
   "execution_count": 56,
   "metadata": {},
   "outputs": [],
   "source": [
    "path = directory + \"data_exp_rec/ferimages/\"\n",
    "\n",
    "if os.path.exists(filePath):\n",
    "    #os.remove(filePath)\n",
    "\n",
    "def save_as_img():\n",
    "    for index,row in temp.iterrows():\n",
    "        pixels=np.asarray(list(row['pixels'].split(' ')),dtype=np.uint8)\n",
    "        img=pixels.reshape((48,48))\n",
    "        stacked_image = np.dstack((img,) * 3) \n",
    "        pathname= os.path.join(path + x[index])\n",
    "        cv2.imwrite(pathname,img)\n",
    "        print('image saved ias {}'.format(pathname))\n",
    "        \n",
    "#Run:\n",
    "#save_as_img()"
   ]
  },
  {
   "cell_type": "markdown",
   "metadata": {},
   "source": [
    "<hr>"
   ]
  },
  {
   "cell_type": "markdown",
   "metadata": {},
   "source": [
    "## 4. ExpW: Expressions in the Wild (84830 images) \n"
   ]
  },
  {
   "cell_type": "markdown",
   "metadata": {},
   "source": [
    "The ExpW dataset contains images in various settings and is very heterogeneous. The large amount of images helps us to get enough data for training our facial expression recognition model. \n",
    "\n",
    "Original source: \n",
    "http://mmlab.ie.cuhk.edu.hk/projects/socialrelation/index.html\n",
    "\n",
    "Link to a cleaned version of the dataset:\n",
    "https://github.com/markson14/ExpWCleaned\n",
    "\n",
    "Download Data: \n",
    "https://drive.google.com/file/d/1vHGIbanzDLbweY_UYyy_EfdWh1-lpVEa/view\n"
   ]
  },
  {
   "cell_type": "code",
   "execution_count": 57,
   "metadata": {},
   "outputs": [
    {
     "data": {
      "text/html": [
       "<div>\n",
       "<style scoped>\n",
       "    .dataframe tbody tr th:only-of-type {\n",
       "        vertical-align: middle;\n",
       "    }\n",
       "\n",
       "    .dataframe tbody tr th {\n",
       "        vertical-align: top;\n",
       "    }\n",
       "\n",
       "    .dataframe thead th {\n",
       "        text-align: right;\n",
       "    }\n",
       "</style>\n",
       "<table border=\"1\" class=\"dataframe\">\n",
       "  <thead>\n",
       "    <tr style=\"text-align: right;\">\n",
       "      <th></th>\n",
       "      <th>0</th>\n",
       "      <th>1</th>\n",
       "      <th>2</th>\n",
       "      <th>3</th>\n",
       "      <th>4</th>\n",
       "      <th>5</th>\n",
       "      <th>6</th>\n",
       "      <th>7</th>\n",
       "      <th>8</th>\n",
       "      <th>9</th>\n",
       "      <th>10</th>\n",
       "      <th>11</th>\n",
       "    </tr>\n",
       "  </thead>\n",
       "  <tbody>\n",
       "    <tr>\n",
       "      <th>0</th>\n",
       "      <td>awe_grandmother_214_0.png</td>\n",
       "      <td>(0, 0, 48, 48)</td>\n",
       "      <td>0</td>\n",
       "      <td>0</td>\n",
       "      <td>0</td>\n",
       "      <td>0</td>\n",
       "      <td>0</td>\n",
       "      <td>0</td>\n",
       "      <td>10</td>\n",
       "      <td>0</td>\n",
       "      <td>0</td>\n",
       "      <td>0</td>\n",
       "    </tr>\n",
       "    <tr>\n",
       "      <th>1</th>\n",
       "      <td>mad_woman_303_0.png</td>\n",
       "      <td>(0, 0, 48, 48)</td>\n",
       "      <td>0</td>\n",
       "      <td>0</td>\n",
       "      <td>0</td>\n",
       "      <td>0</td>\n",
       "      <td>0</td>\n",
       "      <td>0</td>\n",
       "      <td>10</td>\n",
       "      <td>0</td>\n",
       "      <td>0</td>\n",
       "      <td>0</td>\n",
       "    </tr>\n",
       "    <tr>\n",
       "      <th>2</th>\n",
       "      <td>fierce_european_896_0.png</td>\n",
       "      <td>(0, 0, 48, 48)</td>\n",
       "      <td>0</td>\n",
       "      <td>0</td>\n",
       "      <td>0</td>\n",
       "      <td>0</td>\n",
       "      <td>0</td>\n",
       "      <td>0</td>\n",
       "      <td>10</td>\n",
       "      <td>0</td>\n",
       "      <td>0</td>\n",
       "      <td>0</td>\n",
       "    </tr>\n",
       "    <tr>\n",
       "      <th>3</th>\n",
       "      <td>annoyed_father_453_0.png</td>\n",
       "      <td>(0, 0, 48, 48)</td>\n",
       "      <td>0</td>\n",
       "      <td>0</td>\n",
       "      <td>0</td>\n",
       "      <td>0</td>\n",
       "      <td>0</td>\n",
       "      <td>0</td>\n",
       "      <td>10</td>\n",
       "      <td>0</td>\n",
       "      <td>0</td>\n",
       "      <td>0</td>\n",
       "    </tr>\n",
       "    <tr>\n",
       "      <th>4</th>\n",
       "      <td>mad_infant_734_0.png</td>\n",
       "      <td>(0, 0, 48, 48)</td>\n",
       "      <td>0</td>\n",
       "      <td>0</td>\n",
       "      <td>0</td>\n",
       "      <td>0</td>\n",
       "      <td>0</td>\n",
       "      <td>0</td>\n",
       "      <td>10</td>\n",
       "      <td>0</td>\n",
       "      <td>0</td>\n",
       "      <td>0</td>\n",
       "    </tr>\n",
       "  </tbody>\n",
       "</table>\n",
       "</div>"
      ],
      "text/plain": [
       "                          0               1   2   3   4   5   6   7   8   9   \\\n",
       "0  awe_grandmother_214_0.png  (0, 0, 48, 48)   0   0   0   0   0   0  10   0   \n",
       "1        mad_woman_303_0.png  (0, 0, 48, 48)   0   0   0   0   0   0  10   0   \n",
       "2  fierce_european_896_0.png  (0, 0, 48, 48)   0   0   0   0   0   0  10   0   \n",
       "3   annoyed_father_453_0.png  (0, 0, 48, 48)   0   0   0   0   0   0  10   0   \n",
       "4       mad_infant_734_0.png  (0, 0, 48, 48)   0   0   0   0   0   0  10   0   \n",
       "\n",
       "   10  11  \n",
       "0   0   0  \n",
       "1   0   0  \n",
       "2   0   0  \n",
       "3   0   0  \n",
       "4   0   0  "
      ]
     },
     "execution_count": 57,
     "metadata": {},
     "output_type": "execute_result"
    }
   ],
   "source": [
    "expw_df = pd.read_csv(directory + \"/ExpWCleaned-master/label_expw.csv\", header = None)\n",
    "expw_df.head()"
   ]
  },
  {
   "cell_type": "code",
   "execution_count": 58,
   "metadata": {},
   "outputs": [
    {
     "data": {
      "text/html": [
       "<div>\n",
       "<style scoped>\n",
       "    .dataframe tbody tr th:only-of-type {\n",
       "        vertical-align: middle;\n",
       "    }\n",
       "\n",
       "    .dataframe tbody tr th {\n",
       "        vertical-align: top;\n",
       "    }\n",
       "\n",
       "    .dataframe thead th {\n",
       "        text-align: right;\n",
       "    }\n",
       "</style>\n",
       "<table border=\"1\" class=\"dataframe\">\n",
       "  <thead>\n",
       "    <tr style=\"text-align: right;\">\n",
       "      <th></th>\n",
       "      <th>image_name</th>\n",
       "      <th>img_size</th>\n",
       "      <th>neutral</th>\n",
       "      <th>happiness</th>\n",
       "      <th>surprise</th>\n",
       "      <th>sadness</th>\n",
       "      <th>anger</th>\n",
       "      <th>disgust</th>\n",
       "      <th>fear</th>\n",
       "      <th>contempt</th>\n",
       "      <th>unknown</th>\n",
       "      <th>NF</th>\n",
       "    </tr>\n",
       "  </thead>\n",
       "  <tbody>\n",
       "    <tr>\n",
       "      <th>0</th>\n",
       "      <td>awe_grandmother_214_0.png</td>\n",
       "      <td>(0, 0, 48, 48)</td>\n",
       "      <td>0</td>\n",
       "      <td>0</td>\n",
       "      <td>0</td>\n",
       "      <td>0</td>\n",
       "      <td>0</td>\n",
       "      <td>0</td>\n",
       "      <td>10</td>\n",
       "      <td>0</td>\n",
       "      <td>0</td>\n",
       "      <td>0</td>\n",
       "    </tr>\n",
       "    <tr>\n",
       "      <th>1</th>\n",
       "      <td>mad_woman_303_0.png</td>\n",
       "      <td>(0, 0, 48, 48)</td>\n",
       "      <td>0</td>\n",
       "      <td>0</td>\n",
       "      <td>0</td>\n",
       "      <td>0</td>\n",
       "      <td>0</td>\n",
       "      <td>0</td>\n",
       "      <td>10</td>\n",
       "      <td>0</td>\n",
       "      <td>0</td>\n",
       "      <td>0</td>\n",
       "    </tr>\n",
       "    <tr>\n",
       "      <th>2</th>\n",
       "      <td>fierce_european_896_0.png</td>\n",
       "      <td>(0, 0, 48, 48)</td>\n",
       "      <td>0</td>\n",
       "      <td>0</td>\n",
       "      <td>0</td>\n",
       "      <td>0</td>\n",
       "      <td>0</td>\n",
       "      <td>0</td>\n",
       "      <td>10</td>\n",
       "      <td>0</td>\n",
       "      <td>0</td>\n",
       "      <td>0</td>\n",
       "    </tr>\n",
       "    <tr>\n",
       "      <th>3</th>\n",
       "      <td>annoyed_father_453_0.png</td>\n",
       "      <td>(0, 0, 48, 48)</td>\n",
       "      <td>0</td>\n",
       "      <td>0</td>\n",
       "      <td>0</td>\n",
       "      <td>0</td>\n",
       "      <td>0</td>\n",
       "      <td>0</td>\n",
       "      <td>10</td>\n",
       "      <td>0</td>\n",
       "      <td>0</td>\n",
       "      <td>0</td>\n",
       "    </tr>\n",
       "    <tr>\n",
       "      <th>4</th>\n",
       "      <td>mad_infant_734_0.png</td>\n",
       "      <td>(0, 0, 48, 48)</td>\n",
       "      <td>0</td>\n",
       "      <td>0</td>\n",
       "      <td>0</td>\n",
       "      <td>0</td>\n",
       "      <td>0</td>\n",
       "      <td>0</td>\n",
       "      <td>10</td>\n",
       "      <td>0</td>\n",
       "      <td>0</td>\n",
       "      <td>0</td>\n",
       "    </tr>\n",
       "  </tbody>\n",
       "</table>\n",
       "</div>"
      ],
      "text/plain": [
       "                  image_name        img_size  neutral  happiness  surprise  \\\n",
       "0  awe_grandmother_214_0.png  (0, 0, 48, 48)        0          0         0   \n",
       "1        mad_woman_303_0.png  (0, 0, 48, 48)        0          0         0   \n",
       "2  fierce_european_896_0.png  (0, 0, 48, 48)        0          0         0   \n",
       "3   annoyed_father_453_0.png  (0, 0, 48, 48)        0          0         0   \n",
       "4       mad_infant_734_0.png  (0, 0, 48, 48)        0          0         0   \n",
       "\n",
       "   sadness  anger  disgust  fear  contempt  unknown  NF  \n",
       "0        0      0        0    10         0        0   0  \n",
       "1        0      0        0    10         0        0   0  \n",
       "2        0      0        0    10         0        0   0  \n",
       "3        0      0        0    10         0        0   0  \n",
       "4        0      0        0    10         0        0   0  "
      ]
     },
     "execution_count": 58,
     "metadata": {},
     "output_type": "execute_result"
    }
   ],
   "source": [
    "temp2 = expw_df.rename({0: 'image_name',\n",
    "                     1:'img_size',\n",
    "                     2:'neutral',\n",
    "                     3:'happiness',\n",
    "                     4:'surprise',\n",
    "                     5:'sadness',\n",
    "                     6:'anger',\n",
    "                     7:'disgust',\n",
    "                     8:'fear',\n",
    "                     9: 'contempt',\n",
    "                    10: 'unknown',\n",
    "                    11:'NF'}, axis='columns')\n",
    "\n",
    "temp2.head()"
   ]
  },
  {
   "cell_type": "markdown",
   "metadata": {},
   "source": [
    "First, we check for ties in in labeling. If this is the case, we drop the image from our dataframe and do not use it in our analysis further. "
   ]
  },
  {
   "cell_type": "code",
   "execution_count": 59,
   "metadata": {},
   "outputs": [
    {
     "name": "stdout",
     "output_type": "stream",
     "text": [
      "['image_name', 'img_size', 'neutral', 'happiness', 'surprise', 'sadness', 'anger', 'disgust', 'fear', 'contempt', 'unknown', 'NF']\n"
     ]
    }
   ],
   "source": [
    "column_list1 = list(temp2)\n",
    "print(column_list1)\n",
    "column_list1.remove(\"image_name\")\n",
    "column_list1.remove(\"img_size\")\n",
    "temp2[\"row_sum\"] = temp2[column_list1].sum(axis=1)\n",
    "temp2 = temp2[temp2[\"row_sum\"] == 10]\n",
    "del temp2['row_sum']"
   ]
  },
  {
   "cell_type": "markdown",
   "metadata": {},
   "source": [
    "We drop the following rows:\n",
    "* the rows with NAN in the image_name column\n",
    "* the rows which contains images belonging to the emotion categories: \n",
    "        - contempt\n",
    "        - unknown \n",
    "        - NF\n",
    "* then we prepare the dataframe for assigning our wanted label emotion mapping."
   ]
  },
  {
   "cell_type": "code",
   "execution_count": 60,
   "metadata": {},
   "outputs": [],
   "source": [
    "temp2 = temp2[temp2.image_name.notnull()]\n",
    "temp2 = temp2[temp2.contempt.notnull()]\n",
    "temp2 = temp2[temp2.unknown.notnull()]\n",
    "temp2 = temp2[temp2.NF.notnull()]\n",
    "temp2 = temp2.iloc[:,[0,2,3,4,5,6,7,8]]"
   ]
  },
  {
   "cell_type": "code",
   "execution_count": 61,
   "metadata": {},
   "outputs": [
    {
     "data": {
      "text/html": [
       "<div>\n",
       "<style scoped>\n",
       "    .dataframe tbody tr th:only-of-type {\n",
       "        vertical-align: middle;\n",
       "    }\n",
       "\n",
       "    .dataframe tbody tr th {\n",
       "        vertical-align: top;\n",
       "    }\n",
       "\n",
       "    .dataframe thead th {\n",
       "        text-align: right;\n",
       "    }\n",
       "</style>\n",
       "<table border=\"1\" class=\"dataframe\">\n",
       "  <thead>\n",
       "    <tr style=\"text-align: right;\">\n",
       "      <th></th>\n",
       "      <th>image_name</th>\n",
       "      <th>neutral</th>\n",
       "      <th>happiness</th>\n",
       "      <th>surprise</th>\n",
       "      <th>sadness</th>\n",
       "      <th>anger</th>\n",
       "      <th>disgust</th>\n",
       "      <th>fear</th>\n",
       "    </tr>\n",
       "  </thead>\n",
       "  <tbody>\n",
       "    <tr>\n",
       "      <th>0</th>\n",
       "      <td>awe_grandmother_214_0.png</td>\n",
       "      <td>0</td>\n",
       "      <td>0</td>\n",
       "      <td>0</td>\n",
       "      <td>0</td>\n",
       "      <td>0</td>\n",
       "      <td>0</td>\n",
       "      <td>7</td>\n",
       "    </tr>\n",
       "    <tr>\n",
       "      <th>1</th>\n",
       "      <td>mad_woman_303_0.png</td>\n",
       "      <td>0</td>\n",
       "      <td>0</td>\n",
       "      <td>0</td>\n",
       "      <td>0</td>\n",
       "      <td>0</td>\n",
       "      <td>0</td>\n",
       "      <td>7</td>\n",
       "    </tr>\n",
       "    <tr>\n",
       "      <th>2</th>\n",
       "      <td>fierce_european_896_0.png</td>\n",
       "      <td>0</td>\n",
       "      <td>0</td>\n",
       "      <td>0</td>\n",
       "      <td>0</td>\n",
       "      <td>0</td>\n",
       "      <td>0</td>\n",
       "      <td>7</td>\n",
       "    </tr>\n",
       "    <tr>\n",
       "      <th>3</th>\n",
       "      <td>annoyed_father_453_0.png</td>\n",
       "      <td>0</td>\n",
       "      <td>0</td>\n",
       "      <td>0</td>\n",
       "      <td>0</td>\n",
       "      <td>0</td>\n",
       "      <td>0</td>\n",
       "      <td>7</td>\n",
       "    </tr>\n",
       "    <tr>\n",
       "      <th>4</th>\n",
       "      <td>mad_infant_734_0.png</td>\n",
       "      <td>0</td>\n",
       "      <td>0</td>\n",
       "      <td>0</td>\n",
       "      <td>0</td>\n",
       "      <td>0</td>\n",
       "      <td>0</td>\n",
       "      <td>7</td>\n",
       "    </tr>\n",
       "  </tbody>\n",
       "</table>\n",
       "</div>"
      ],
      "text/plain": [
       "                  image_name  neutral  happiness  surprise  sadness  anger  \\\n",
       "0  awe_grandmother_214_0.png        0          0         0        0      0   \n",
       "1        mad_woman_303_0.png        0          0         0        0      0   \n",
       "2  fierce_european_896_0.png        0          0         0        0      0   \n",
       "3   annoyed_father_453_0.png        0          0         0        0      0   \n",
       "4       mad_infant_734_0.png        0          0         0        0      0   \n",
       "\n",
       "   disgust  fear  \n",
       "0        0     7  \n",
       "1        0     7  \n",
       "2        0     7  \n",
       "3        0     7  \n",
       "4        0     7  "
      ]
     },
     "execution_count": 61,
     "metadata": {},
     "output_type": "execute_result"
    }
   ],
   "source": [
    "# assign new labels to have a sparse label layout\n",
    "temp2 = temp2.replace(to_replace = {'neutral': 10,\n",
    "                                'happiness': 10,\n",
    "                                'surprise': 10,\n",
    "                                'sadness': 10,\n",
    "                                'anger':10,\n",
    "                                'disgust':10,\n",
    "                                'fear':10\n",
    "                               },\n",
    "                  value = {'neutral': 1,\n",
    "                                'happiness': 2,\n",
    "                                'surprise': 3,\n",
    "                                'sadness': 4,\n",
    "                                'anger':5,\n",
    "                                'disgust':6,\n",
    "                                'fear':7\n",
    "                               },\n",
    "                               )\n",
    "\n",
    "temp2.head()"
   ]
  },
  {
   "cell_type": "markdown",
   "metadata": {},
   "source": [
    "After some dataframe manipulation, we coerce the dataframe in the desired image_name, label shape."
   ]
  },
  {
   "cell_type": "code",
   "execution_count": 62,
   "metadata": {},
   "outputs": [
    {
     "name": "stdout",
     "output_type": "stream",
     "text": [
      "['image_name', 'neutral', 'happiness', 'surprise', 'sadness', 'anger', 'disgust', 'fear']\n"
     ]
    }
   ],
   "source": [
    "col_list_temp2 = list(temp2)\n",
    "print(col_list_temp2)"
   ]
  },
  {
   "cell_type": "code",
   "execution_count": 63,
   "metadata": {},
   "outputs": [
    {
     "data": {
      "text/html": [
       "<div>\n",
       "<style scoped>\n",
       "    .dataframe tbody tr th:only-of-type {\n",
       "        vertical-align: middle;\n",
       "    }\n",
       "\n",
       "    .dataframe tbody tr th {\n",
       "        vertical-align: top;\n",
       "    }\n",
       "\n",
       "    .dataframe thead th {\n",
       "        text-align: right;\n",
       "    }\n",
       "</style>\n",
       "<table border=\"1\" class=\"dataframe\">\n",
       "  <thead>\n",
       "    <tr style=\"text-align: right;\">\n",
       "      <th></th>\n",
       "      <th>image_name</th>\n",
       "      <th>label</th>\n",
       "    </tr>\n",
       "  </thead>\n",
       "  <tbody>\n",
       "    <tr>\n",
       "      <th>0</th>\n",
       "      <td>awe_grandmother_214_0.png</td>\n",
       "      <td>7</td>\n",
       "    </tr>\n",
       "    <tr>\n",
       "      <th>1</th>\n",
       "      <td>mad_woman_303_0.png</td>\n",
       "      <td>7</td>\n",
       "    </tr>\n",
       "    <tr>\n",
       "      <th>2</th>\n",
       "      <td>fierce_european_896_0.png</td>\n",
       "      <td>7</td>\n",
       "    </tr>\n",
       "    <tr>\n",
       "      <th>3</th>\n",
       "      <td>annoyed_father_453_0.png</td>\n",
       "      <td>7</td>\n",
       "    </tr>\n",
       "    <tr>\n",
       "      <th>4</th>\n",
       "      <td>mad_infant_734_0.png</td>\n",
       "      <td>7</td>\n",
       "    </tr>\n",
       "    <tr>\n",
       "      <th>...</th>\n",
       "      <td>...</td>\n",
       "      <td>...</td>\n",
       "    </tr>\n",
       "    <tr>\n",
       "      <th>84825</th>\n",
       "      <td>awe_father_957_0.png</td>\n",
       "      <td>6</td>\n",
       "    </tr>\n",
       "    <tr>\n",
       "      <th>84826</th>\n",
       "      <td>distressed_actor_177_0.png</td>\n",
       "      <td>6</td>\n",
       "    </tr>\n",
       "    <tr>\n",
       "      <th>84827</th>\n",
       "      <td>hostile_mother_562_0.png</td>\n",
       "      <td>6</td>\n",
       "    </tr>\n",
       "    <tr>\n",
       "      <th>84828</th>\n",
       "      <td>distressed_actor_971_0.png</td>\n",
       "      <td>6</td>\n",
       "    </tr>\n",
       "    <tr>\n",
       "      <th>84829</th>\n",
       "      <td>heartbroken_worker_718_1.png</td>\n",
       "      <td>6</td>\n",
       "    </tr>\n",
       "  </tbody>\n",
       "</table>\n",
       "<p>84830 rows × 2 columns</p>\n",
       "</div>"
      ],
      "text/plain": [
       "                         image_name  label\n",
       "0         awe_grandmother_214_0.png      7\n",
       "1               mad_woman_303_0.png      7\n",
       "2         fierce_european_896_0.png      7\n",
       "3          annoyed_father_453_0.png      7\n",
       "4              mad_infant_734_0.png      7\n",
       "...                             ...    ...\n",
       "84825          awe_father_957_0.png      6\n",
       "84826    distressed_actor_177_0.png      6\n",
       "84827      hostile_mother_562_0.png      6\n",
       "84828    distressed_actor_971_0.png      6\n",
       "84829  heartbroken_worker_718_1.png      6\n",
       "\n",
       "[84830 rows x 2 columns]"
      ]
     },
     "execution_count": 63,
     "metadata": {},
     "output_type": "execute_result"
    }
   ],
   "source": [
    "temp2[\"label\"] = temp2[col_list_temp2].sum(axis=1).astype(np.int32) #this makes a new label column\n",
    "cols_to_keep = [\"image_name\", \"label\"]\n",
    "expw_labels= temp2[cols_to_keep]\n",
    "expw_labels"
   ]
  },
  {
   "cell_type": "markdown",
   "metadata": {},
   "source": [
    "Note: The label structure of the ExpW coincides with our target label structure of the FER+ dataset and therefore we do not need to relabel it. "
   ]
  },
  {
   "cell_type": "code",
   "execution_count": 64,
   "metadata": {},
   "outputs": [
    {
     "data": {
      "image/png": "[encoded data removed]",
      "text/plain": [
       "<Figure size 432x288 with 1 Axes>"
      ]
     },
     "metadata": {
      "needs_background": "light"
     },
     "output_type": "display_data"
    }
   ],
   "source": [
    "expw_labels.label.value_counts().plot(kind='bar')\n",
    "plt.title('ExpW label counts')\n",
    "plt.xlabel('Label')\n",
    "plt.ylabel('Count')\n",
    "plt.show()"
   ]
  },
  {
   "cell_type": "markdown",
   "metadata": {},
   "source": [
    "Also the ExpW dataset is very imbalanced. But once we combine all datasets in the next steps, we have a sufficient amount of images per class to work with.\n",
    "<hr>"
   ]
  },
  {
   "cell_type": "markdown",
   "metadata": {},
   "source": [
    "## 5. Merging all cleaned datasets"
   ]
  },
  {
   "cell_type": "code",
   "execution_count": 65,
   "metadata": {},
   "outputs": [
    {
     "data": {
      "text/plain": [
       "((84830, 2), (33500, 2), (2544, 2), (15339, 2))"
      ]
     },
     "execution_count": 65,
     "metadata": {},
     "output_type": "execute_result"
    }
   ],
   "source": [
    "expw_labels.shape, fer_labels.shape, feph_labels.shape, rafdb_labels.shape"
   ]
  },
  {
   "cell_type": "code",
   "execution_count": 66,
   "metadata": {},
   "outputs": [],
   "source": [
    "df_all= pd.concat([expw_labels, fer_labels, feph_labels, rafdb_labels], axis=0)\n",
    "df_all= shuffle(df_all) #randomly shuffle the data to mix the different datasets!\n",
    "df_all[\"label\"].unique()"
   ]
  },
  {
   "cell_type": "code",
   "execution_count": 68,
   "metadata": {},
   "outputs": [
    {
     "data": {
      "text/plain": [
       "(136213, 2)"
      ]
     },
     "execution_count": 68,
     "metadata": {},
     "output_type": "execute_result"
    }
   ],
   "source": [
    "df_all.shape"
   ]
  },
  {
   "cell_type": "code",
   "execution_count": 69,
   "metadata": {},
   "outputs": [
    {
     "data": {
      "image/png": "[encoded data removed]",
      "text/plain": [
       "<Figure size 432x288 with 1 Axes>"
      ]
     },
     "metadata": {
      "needs_background": "light"
     },
     "output_type": "display_data"
    }
   ],
   "source": [
    "df_all.label.value_counts().plot(kind='bar')\n",
    "plt.title('All Labels')\n",
    "plt.xlabel('Label')\n",
    "plt.ylabel('Count')\n",
    "plt.show()"
   ]
  },
  {
   "cell_type": "markdown",
   "metadata": {},
   "source": [
    "The combined dataset is still unbalanced. But the minority classes have also contain more than 2500 unique images. In the training set preproccessing, we are going to account for this imbalance by randomly oversampling the minority classes and randomly undersampling the majority classes, such that the training set is balanced. "
   ]
  },
  {
   "cell_type": "code",
   "execution_count": 71,
   "metadata": {},
   "outputs": [
    {
     "data": {
      "text/plain": [
       "1    46361\n",
       "2    43447\n",
       "4    17426\n",
       "3    13526\n",
       "5     7948\n",
       "6     4981\n",
       "7     2524\n",
       "Name: label, dtype: int64"
      ]
     },
     "execution_count": 71,
     "metadata": {},
     "output_type": "execute_result"
    }
   ],
   "source": [
    "df_all.label.value_counts()"
   ]
  },
  {
   "cell_type": "markdown",
   "metadata": {},
   "source": [
    "#### Readjusting labels"
   ]
  },
  {
   "cell_type": "markdown",
   "metadata": {},
   "source": [
    "Next we readjust labels such that tensorflow has the desired label input beginning with 0. We achieve this by substracting the value 1 from each label."
   ]
  },
  {
   "cell_type": "code",
   "execution_count": 72,
   "metadata": {},
   "outputs": [
    {
     "data": {
      "text/plain": [
       "0    46361\n",
       "1    43447\n",
       "3    17426\n",
       "2    13526\n",
       "4     7948\n",
       "5     4981\n",
       "6     2524\n",
       "Name: label, dtype: int64"
      ]
     },
     "execution_count": 72,
     "metadata": {},
     "output_type": "execute_result"
    }
   ],
   "source": [
    "df_all.loc[:,'label'] = df_all.loc[:,'label'].sub(1)\n",
    "df_all.label.value_counts()"
   ]
  },
  {
   "cell_type": "code",
   "execution_count": 84,
   "metadata": {},
   "outputs": [],
   "source": [
    "df_all.to_csv(directory +'expression_main/labels/expression_labels.csv', sep='\\t', encoding='utf-8', index=False)"
   ]
  },
  {
   "cell_type": "markdown",
   "metadata": {},
   "source": [
    "##### Next we are grayscaling all pictures and save them in a new directory!"
   ]
  },
  {
   "cell_type": "markdown",
   "metadata": {},
   "source": [
    "READ ME: The code below needs not to run, as the submitted folder already contains the grayscaled images. It is just included here for the sake of completeness.  "
   ]
  },
  {
   "cell_type": "code",
   "execution_count": 57,
   "metadata": {},
   "outputs": [
    {
     "name": "stdout",
     "output_type": "stream",
     "text": [
      "136198\n"
     ]
    }
   ],
   "source": [
    "# Creating a new folder for storing the grayscaled images\n",
    "\n",
    "#drop .DS_Store files!  \n",
    "#df_all.drop(df_all.loc[df_all['image_name'] == \".DS_Store\"].index, inplace=True)\n",
    "#df_all.drop(df_all.loc[df_all['label'] == \".DS_Store\"].index, inplace=True)\n",
    "\n",
    "#new_folder = directory + '/expression_main/grayscaled_images/'\n",
    "#if not os.path.exists(new_folder):\n",
    "#    os.makedirs(new_folder) \n",
    "\n",
    "#grab the image names from the dataframe\n",
    "#img_names = df_all['image_name']\n",
    "#print(len(img_names))\n",
    "#def conv_grayscale(image_name_list):\n",
    "#    for img in image_name_list:\n",
    "#        name = img\n",
    "#        img = Image.open(directory + '/expression_main/images/' + img).convert('LA')\n",
    "#        img.save(new_folder+name)\n",
    "#    return None\n",
    "\n",
    "\n",
    "#start_time = time.time()\n",
    "#conv_grayscale(img_names) #uncomment this to run. It takes about 13 minutes on a business laptop.\n",
    "#print(\"--- %s seconds ---\" % (time.time() - start_time))"
   ]
  },
  {
   "cell_type": "markdown",
   "metadata": {},
   "source": [
    "Now we have all of our images in grayscale format and have them stored in a single folder. Another folder contains the csv file with all corresponding labels from 0:neutral - 6: fear. \n",
    "\n",
    "Next we switch to the notebook: Emotion_Training"
   ]
  }
 ],
 "metadata": {
  "kernelspec": {
   "display_name": "Python 3",
   "language": "python",
   "name": "python3"
  },
  "language_info": {
   "codemirror_mode": {
    "name": "ipython",
    "version": 3
   },
   "file_extension": ".py",
   "mimetype": "text/x-python",
   "name": "python",
   "nbconvert_exporter": "python",
   "pygments_lexer": "ipython3",
   "version": "3.8.3"
  }
 },
 "nbformat": 4,
 "nbformat_minor": 4
}
